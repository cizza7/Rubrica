{
  "nbformat": 4,
  "nbformat_minor": 0,
  "metadata": {
    "colab": {
      "name": "Untitled",
      "provenance": [],
      "include_colab_link": true
    },
    "kernelspec": {
      "name": "python3",
      "display_name": "Python 3"
    }
  },
  "cells": [
    {
      "cell_type": "markdown",
      "metadata": {
        "id": "view-in-github",
        "colab_type": "text"
      },
      "source": [
        "<a href=\"https://colab.research.google.com/github/cizza7/repo1/blob/master/sorted.ipynb\" target=\"_parent\"><img src=\"https://colab.research.google.com/assets/colab-badge.svg\" alt=\"Open In Colab\"/></a>"
      ]
    },
    {
      "cell_type": "code",
      "metadata": {
        "id": "M_i1EINVlBtz",
        "colab_type": "code",
        "colab": {
          "base_uri": "https://localhost:8080/",
          "height": 713
        },
        "outputId": "f5fd74e5-14a8-496e-a2e6-8857e2b2ac10"
      },
      "source": [
        "#!git clone https://github.com/mayuri0192/Object-Tracking-using-CNN-and-RNN.git\n",
        "!python main.py\n",
        "#!wget http://www.robots.ox.ac.uk/~lav/Research/Projects/2009bbenfold_headpose/Datasets/TownCentre-groundtruth.op"
      ],
      "execution_count": 36,
      "outputs": [
        {
          "output_type": "stream",
          "text": [
            "/usr/local/lib/python3.6/dist-packages/sklearn/utils/linear_assignment_.py:21: DeprecationWarning: The linear_assignment_ module is deprecated in 0.21 and will be removed from 0.23. Use scipy.optimize.linear_sum_assignment instead.\n",
            "  DeprecationWarning)\n",
            "Kalman tracker activated!\n",
            "frame: 0...took: 0.002127s\n",
            "main.py:58: MatplotlibDeprecationWarning: Adding an axes using the same arguments as a previous axes currently reuses the earlier instance.  In a future version, a new instance will always be created and returned.  Meanwhile, this warning can be suppressed, and the future behavior ensured, by passing a unique label to each axes instance.\n",
            "  ax1 = fig.add_subplot(111, aspect='equal')\n",
            "/usr/local/lib/python3.6/dist-packages/sklearn/utils/linear_assignment_.py:127: DeprecationWarning: The linear_assignment function is deprecated in 0.21 and will be removed from 0.23. Use scipy.optimize.linear_sum_assignment instead.\n",
            "  DeprecationWarning)\n",
            "frame: 1...took: 0.288828s\n",
            "main.py:58: MatplotlibDeprecationWarning: Adding an axes using the same arguments as a previous axes currently reuses the earlier instance.  In a future version, a new instance will always be created and returned.  Meanwhile, this warning can be suppressed, and the future behavior ensured, by passing a unique label to each axes instance.\n",
            "  ax1 = fig.add_subplot(111, aspect='equal')\n",
            "/usr/local/lib/python3.6/dist-packages/sklearn/utils/linear_assignment_.py:127: DeprecationWarning: The linear_assignment function is deprecated in 0.21 and will be removed from 0.23. Use scipy.optimize.linear_sum_assignment instead.\n",
            "  DeprecationWarning)\n",
            "frame: 2...took: 0.005499s\n",
            "frame: 3...took: 0.001426s\n",
            "/usr/local/lib/python3.6/dist-packages/sklearn/utils/linear_assignment_.py:127: DeprecationWarning: The linear_assignment function is deprecated in 0.21 and will be removed from 0.23. Use scipy.optimize.linear_sum_assignment instead.\n",
            "  DeprecationWarning)\n",
            "frame: 4...took: 0.005438s\n",
            "/usr/local/lib/python3.6/dist-packages/sklearn/utils/linear_assignment_.py:127: DeprecationWarning: The linear_assignment function is deprecated in 0.21 and will be removed from 0.23. Use scipy.optimize.linear_sum_assignment instead.\n",
            "  DeprecationWarning)\n",
            "frame: 5...took: 0.005368s\n",
            "Traceback (most recent call last):\n",
            "  File \"main.py\", line 110, in <module>\n",
            "    main()\n",
            "  File \"main.py\", line 56, in main\n",
            "    img = io.imread(fn)\n",
            "  File \"/usr/local/lib/python3.6/dist-packages/skimage/io/_io.py\", line 61, in imread\n",
            "    img = call_plugin('imread', fname, plugin=plugin, **plugin_args)\n",
            "  File \"/usr/local/lib/python3.6/dist-packages/skimage/io/manage_plugins.py\", line 210, in call_plugin\n",
            "    return func(*args, **kwargs)\n",
            "  File \"/usr/local/lib/python3.6/dist-packages/imageio/core/functions.py\", line 221, in imread\n",
            "    reader = read(uri, format, \"i\", **kwargs)\n",
            "  File \"/usr/local/lib/python3.6/dist-packages/imageio/core/functions.py\", line 130, in get_reader\n",
            "    request = Request(uri, \"r\" + mode, **kwargs)\n",
            "  File \"/usr/local/lib/python3.6/dist-packages/imageio/core/request.py\", line 125, in __init__\n",
            "    self._parse_uri(uri)\n",
            "  File \"/usr/local/lib/python3.6/dist-packages/imageio/core/request.py\", line 273, in _parse_uri\n",
            "    raise FileNotFoundError(\"No such file: '%s'\" % fn)\n",
            "FileNotFoundError: No such file: '/content/experimenting-with-sort/test/Pictures7.png'\n"
          ],
          "name": "stdout"
        }
      ]
    }
  ]
}